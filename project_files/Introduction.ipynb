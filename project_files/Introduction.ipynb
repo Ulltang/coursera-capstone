{
 "cells": [
  {
   "cell_type": "markdown",
   "metadata": {},
   "source": [
    "<h1>Introduction</h1>"
   ]
  },
  {
   "cell_type": "markdown",
   "metadata": {},
   "source": [
    "<H2>Background</h2>"
   ]
  },
  {
   "cell_type": "markdown",
   "metadata": {},
   "source": [
    "<p><b>As with any large city in a developed country, the traffic situation in the city of Seattle is a complex one. Even though there’s been a continues decrease in serious injuries on the Seattle Streets, there’s still a long way to go to reach the city’s goal of zero traffic fatalities and serious injuries by 2030. Not all traffic accidents lead to injury however, and some result in property damage only. It could be of valuable information if one could identify the relevance of different factors surrounding a traffic accident and use these to predict whether a traffic accident will result in injury or property damage.</b></p>"
   ]
  },
  {
   "cell_type": "markdown",
   "metadata": {},
   "source": [
    "<h2>Problem</h2>"
   ]
  },
  {
   "cell_type": "markdown",
   "metadata": {},
   "source": [
    "<p><b>There might be several different attributes which play an important role in the severity of a car accident. Looking through these and analyzing them could provide a deeper understanding into what factors are present when accidents happen and which of these play a more significant role. So, can we identify what factors are present when traffic accidents happen, and the magnitude of these? Can we separate the accidents leading to injury from the ones leading to property damage, based on patterns among these factors?</b></p>"
   ]
  },
  {
   "cell_type": "markdown",
   "metadata": {},
   "source": [
    "<h2>Stakeholders</h2>"
   ]
  },
  {
   "cell_type": "markdown",
   "metadata": {},
   "source": [
    "<p><b>Indeed, if one could retrieve such insights and predict the severity of traffic accidents, this would be very beneficial for all road users, the emergency services and city of Seattle as a whole. Road users could use this information to make assumptions on when and where to be extra cautious, and which routes are more exposed than others and should be avoided at certain times or when certain conditions are meet. The emergency services could allocate their resources and adapt their preparedness with this information as a reference point. The government could implement measures and take actions to prevent or mitigate such predictable behaviors and the consequences of these in the future.</b></p>"
   ]
  },
  {
   "cell_type": "code",
   "execution_count": null,
   "metadata": {},
   "outputs": [],
   "source": []
  }
 ],
 "metadata": {
  "kernelspec": {
   "display_name": "Python 3",
   "language": "python",
   "name": "python3"
  },
  "language_info": {
   "codemirror_mode": {
    "name": "ipython",
    "version": 3
   },
   "file_extension": ".py",
   "mimetype": "text/x-python",
   "name": "python",
   "nbconvert_exporter": "python",
   "pygments_lexer": "ipython3",
   "version": "3.7.6"
  },
  "toc": {
   "base_numbering": 1,
   "nav_menu": {},
   "number_sections": true,
   "sideBar": true,
   "skip_h1_title": false,
   "title_cell": "Table of Contents",
   "title_sidebar": "Contents",
   "toc_cell": false,
   "toc_position": {},
   "toc_section_display": true,
   "toc_window_display": false
  }
 },
 "nbformat": 4,
 "nbformat_minor": 4
}
