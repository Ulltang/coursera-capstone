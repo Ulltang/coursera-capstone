{
 "cells": [
  {
   "cell_type": "markdown",
   "metadata": {},
   "source": [
    "<h1>The Data</h1>"
   ]
  },
  {
   "cell_type": "markdown",
   "metadata": {},
   "source": [
    "<h2>Data Source</h2>"
   ]
  },
  {
   "cell_type": "markdown",
   "metadata": {},
   "source": [
    "<p><font size='+1'>The data set used in this project was provided by Coursera, but it could also be found (slightly different) at https://data.seattle.gov/Land-Base/Collisions/9kas-rb8d. In its original state the data set contains all collisions provided by the Seattle Police Department and recorded by traffic Records from 2004 to September 2019. This includes all types of collisions with a code to categorize the severity of the accident. In the original data set this can be one out of five different codes. The data set provided by Coursera, however, has already been pre-cleaned and altered a bit. One of the alterations is that the severity code now is either 1 for property damage only, or 2 for injury.  The metadata can be found at https://www.seattle.gov/Documents/Departments/SDOT/GIS/Collisions_OD.pdf.</font></p>"
   ]
  },
  {
   "cell_type": "markdown",
   "metadata": {},
   "source": [
    "<h2>Data Exploration and Cleaning</h2>"
   ]
  },
  {
   "cell_type": "markdown",
   "metadata": {},
   "source": [
    "<p><font size='+1'>The data set was available through a CSV file and was loaded into a Pandas dataframe object in a jupyter notebook file. The un-cleaned data set consisted of 37 unique columns (plus a duplicate column of the column containing the severity codes) and 194 673 rows.  37 columns and potential features are a lot, so the next step will be to determine which of these to use and which ones to drop.<br><br>\n",
    "   \n",
    "For this project we're gonna focus on the location, the date and time, weather, road and light condition, collision type, if there were speeding, influence of drugs or alcohol and inattention. By exploring these columns we can see that the columns SPEEDING and INATTENTIONIND have a lot of missing values. SPEEDING indicates whether or not speeding was a factor in the\n",
    "collision, and INATTENTIONIND indicates whether or not collision was due to inattention. Both column should display Y when the condition was present and N when it was not, but by exploring the columns we found that there's only one unique value for both of the columns and that value is Y. Here, one can either assume that the missing values indicates N, or drop the columns. The first alternative was choosen. For the rest of the columns the missing values count were relativly low, so all remaining rows with missing values were dropped.</font></p>"
   ]
  },
  {
   "cell_type": "code",
   "execution_count": null,
   "metadata": {},
   "outputs": [],
   "source": []
  }
 ],
 "metadata": {
  "kernelspec": {
   "display_name": "Python 3",
   "language": "python",
   "name": "python3"
  },
  "language_info": {
   "codemirror_mode": {
    "name": "ipython",
    "version": 3
   },
   "file_extension": ".py",
   "mimetype": "text/x-python",
   "name": "python",
   "nbconvert_exporter": "python",
   "pygments_lexer": "ipython3",
   "version": "3.7.6"
  },
  "toc": {
   "base_numbering": 1,
   "nav_menu": {},
   "number_sections": true,
   "sideBar": true,
   "skip_h1_title": false,
   "title_cell": "Table of Contents",
   "title_sidebar": "Contents",
   "toc_cell": false,
   "toc_position": {},
   "toc_section_display": true,
   "toc_window_display": false
  }
 },
 "nbformat": 4,
 "nbformat_minor": 4
}
